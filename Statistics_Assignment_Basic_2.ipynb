{
  "nbformat": 4,
  "nbformat_minor": 0,
  "metadata": {
    "colab": {
      "provenance": []
    },
    "kernelspec": {
      "name": "python3",
      "display_name": "Python 3"
    },
    "language_info": {
      "name": "python"
    }
  },
  "cells": [
    {
      "cell_type": "markdown",
      "source": [
        "# **Q1**\n",
        "\n",
        "**What are the three measures of central tendency?**\n",
        "\n",
        "**Answer:**\n",
        "\n",
        " * Mean\n",
        " * Median\n",
        " * Mode\n"
      ],
      "metadata": {
        "id": "0nN8oOPHcJoN"
      }
    },
    {
      "cell_type": "markdown",
      "source": [
        "# **Q2**\n",
        "\n",
        "**What is the difference between the mean, median, and mode? How are they used to measure the central tendency of a dataset?**\n",
        "\n",
        "\n",
        "**Answer:**\n",
        "\n",
        "The mean, median, and mode are three measures of central tendency used to describe the typical or central value of a dataset. The mean is the arithmetic average, obtained by summing all values and dividing by the number of data points; it is sensitive to outliers. The median is the middle value when the data is ordered, or the average of the two middle values in case of an even number of data points; it is less affected by extreme values and useful in skewed distributions. The mode is the most frequently occurring value in the dataset; it is useful for identifying the most common observation. Each measure offers unique insights into the dataset's central behavior, allowing analysts to better understand the overall characteristics and make informed decisions based on the data's central tendency."
      ],
      "metadata": {
        "id": "zv4ERfdCcVO0"
      }
    },
    {
      "cell_type": "markdown",
      "source": [
        "# **Q3**\n",
        "\n",
        "**Measure the three measures of central tendency for the given height data:**\n",
        "\n",
        "       [178,177,176,177,178.2,178,175,179,180,175,178.9,176.2,177,172.5,178,176.5]\n",
        "\n",
        "\n",
        "**Answer:**\n"
      ],
      "metadata": {
        "id": "B03jhNgtcUTQ"
      }
    },
    {
      "cell_type": "code",
      "source": [
        "import numpy as np\n",
        "\n",
        "height_data = [178, 177, 176, 177, 178.2, 178, 175, 179, 180, 175, 178.9, 176.2, 177, 172.5, 178, 176.5]\n",
        "\n",
        "mean_height = np.mean(height_data)\n",
        "print(\"Mean height:\", mean_height)\n",
        "\n",
        "median_height = np.median(height_data)\n",
        "print(\"Median height:\", median_height)\n",
        "\n",
        "unique_values, counts = np.unique(height_data, return_counts=True)\n",
        "mode_height = unique_values[np.argmax(counts)]\n",
        "print(\"Mode height:\", mode_height)\n"
      ],
      "metadata": {
        "colab": {
          "base_uri": "https://localhost:8080/"
        },
        "id": "VS7Sf6X5cpEz",
        "outputId": "766080f7-7713-4979-9652-5297fbd933e4"
      },
      "execution_count": 1,
      "outputs": [
        {
          "output_type": "stream",
          "name": "stdout",
          "text": [
            "Mean height: 177.01875\n",
            "Median height: 177.0\n",
            "Mode height: 177.0\n"
          ]
        }
      ]
    },
    {
      "cell_type": "markdown",
      "source": [
        "# **Q4**\n",
        "\n",
        "**Find the standard deviation for the given data:**\n",
        "\n",
        "    [178,177,176,177,178.2,178,175,179,180,175,178.9,176.2,177,172.5,178,176.5]\n",
        "\n",
        "**Answer:**\n",
        "\n"
      ],
      "metadata": {
        "id": "liCQbUQqcWEO"
      }
    },
    {
      "cell_type": "code",
      "source": [
        "l = [178, 177, 176, 177, 178.2, 178, 175, 179, 180, 175, 178.9, 176.2, 177, 172.5, 178, 176.5]\n",
        "\n",
        "standard_deviation = np.std(l)\n",
        "print(\"Standard Deviation:\", standard_deviation)"
      ],
      "metadata": {
        "colab": {
          "base_uri": "https://localhost:8080/"
        },
        "id": "7Kdk-uwadBW-",
        "outputId": "1bf0e372-a476-439a-bc42-5e8d30bbee8f"
      },
      "execution_count": 3,
      "outputs": [
        {
          "output_type": "stream",
          "name": "stdout",
          "text": [
            "Standard Deviation: 1.7885814036548633\n"
          ]
        }
      ]
    },
    {
      "cell_type": "markdown",
      "source": [
        "# **Q5**\n",
        "\n",
        "**How are measures of dispersion such as range, variance, and standard deviation used to describe the spread of a dataset? Provide an example.**\n",
        "\n",
        "**Answer:**\n",
        "\n",
        "Measures of dispersion, such as range, variance, and standard deviation, are used to describe the spread or variability of a dataset. They provide valuable insights into how the data points are dispersed around the central tendency (mean, median, or mode). By understanding the spread of the data, analysts can assess the data's consistency, variability, and potential outliers.\n",
        "\n",
        "**Example:**\n",
        "Let's consider the following dataset representing the ages of individuals in a group:\n",
        "[25, 28, 30, 27, 24, 31, 29]\n",
        "\n",
        " * Range:\n",
        "The range is the simplest measure of dispersion, calculated as the difference between the maximum and minimum values in the dataset. In this example, the range is 31 - 24 = 7, indicating that the ages range from 24 to 31.\n",
        "\n",
        " * Variance:\n",
        "The variance quantifies the average squared deviation of each data point from the mean. It gives a more comprehensive understanding of the data spread than the range. To calculate the variance, follow these steps:\n",
        "\n",
        " * Calculate the mean:\n",
        "\n",
        "        (25 + 28 + 30 + 27 + 24 + 31 + 29) / 7 ≈ 28\n",
        "\n",
        "* Calculate the squared difference of each data point from the mean:\n",
        "\n",
        "      (25-28)^2 + (28-28)^2 + (30-28)^2 + (27-28)^2 + (24-28)^2 + (31-28)^2 + (29-28)^2 ≈ 14\n",
        "\n",
        "* Divide the sum of squared differences by the number of data points:\n",
        "\n",
        "        14 / 7 ≈ 2\n",
        "\n",
        "  So, the variance is approximately 2.\n",
        "\n",
        "* Standard Deviation:\n",
        "The standard deviation is the square root of the variance. It represents the average deviation of data points from the mean, providing a measure of dispersion in the original units of the dataset. In this example, the standard deviation is √2 ≈ 1.41."
      ],
      "metadata": {
        "id": "_xz9rQ_GcXC5"
      }
    },
    {
      "cell_type": "markdown",
      "source": [
        "# **Q6**\n",
        "\n",
        "**What is a Venn diagram?.**\n",
        "\n",
        "**Answer:**\n",
        "\n",
        "A Venn diagram is a graphical representation used to show the relationships between different sets of data or elements. It consists of overlapping circles, where each circle represents a set, and the overlapping areas indicate the intersection of those sets. Venn diagrams are commonly used to visualize the similarities and differences between various groups or categories. They help in understanding the relationships and overlaps among the elements being compared, making complex data more easily comprehensible at a glance."
      ],
      "metadata": {
        "id": "jVuu7VJUeVwX"
      }
    },
    {
      "cell_type": "markdown",
      "source": [
        "# **Q7**\n",
        "\n",
        "**For the two given sets A = (2,3,4,5,6,7) & B = (0,2,6,8,10). Find:**\n",
        "\n",
        "\n",
        "    (i) A B\n",
        "    (ii) A ⋃ B\n",
        "\n",
        "\n",
        "**Answer:**\n",
        "\n",
        "    (i) A ∩ B = {2, 6}\n",
        "    (ii) A ∪ B = {0, 2, 3, 4, 5, 6, 7, 8, 10}"
      ],
      "metadata": {
        "id": "1Kg6coRIeWhV"
      }
    },
    {
      "cell_type": "markdown",
      "source": [
        "# **Q8**\n",
        "\n",
        "**What do you understand about skewness in data?**\n",
        "\n",
        "**Answer:**\n",
        "\n",
        "Skewness in data refers to the measure of asymmetry in the distribution of values. In a symmetric distribution, the data is evenly distributed around the central tendency, such as the mean, median, or mode. However, in a skewed distribution, the data is not evenly distributed, and there is a tail on one side of the central tendency that is longer or more spread out than the other side. Skewness can be either positive (right-skewed), where the tail extends towards the right, or negative (left-skewed), where the tail extends towards the left. Skewness is an essential concept in data analysis as it can significantly impact the interpretation and choice of appropriate statistical methods for analysis. Understanding skewness helps identify patterns and potential outliers in the data, ensuring accurate and meaningful insights are drawn.\n"
      ],
      "metadata": {
        "id": "xvnhUbJoeXOu"
      }
    },
    {
      "cell_type": "markdown",
      "source": [
        "# **Q9**\n",
        "\n",
        "**If a data is right skewed then what will be the position of median with respect to mean?**\n",
        "\n",
        "**Answer:**\n",
        "\n",
        "If a data is right-skewed, the median will be less than the mean. The long tail on the right side of the distribution pulls the mean towards higher values, resulting in the mean being greater than the median."
      ],
      "metadata": {
        "id": "Y9L9NuqdeYNv"
      }
    },
    {
      "cell_type": "markdown",
      "source": [
        "# **Q10**\n",
        "\n",
        "**Explain the difference between covariance and correlation. How are these measures used in statistical analysis?**\n",
        "\n",
        "**Answer:**\n",
        "Covariance measures the extent to which two variables vary together. Positive covariance indicates that the variables increase or decrease together, while negative covariance shows an inverse relationship. Correlation is a standardized version of covariance, ranging between -1 and 1, indicating the strength and direction of the linear relationship between variables. Both measures are used in statistical analysis to understand the relationship between two variables, with correlation providing a more interpretable and comparable value across different datasets."
      ],
      "metadata": {
        "id": "qcTVKdtgeY3X"
      }
    },
    {
      "cell_type": "markdown",
      "source": [
        "# **Q11**\n",
        "\n",
        "**What is the formula for calculating the sample mean? Provide an example calculation for a dataset.**\n",
        "\n",
        "**Answer:**\n",
        "\n",
        "The formula for calculating the sample mean (x̄) is:\n",
        "\n",
        "    x̄ = (Sum of all data points) / (Number of data points)\n",
        "\n",
        "Example:\n",
        "Let's calculate the sample mean for the following dataset: [10, 15, 20, 25, 30]\n",
        "\n",
        "**Sample Mean**\n",
        "\n",
        "    (x̄) = (10 + 15 + 20 + 25 + 30) / 5 = 100 / 5 = 20\n",
        "\n",
        "So, the sample mean for the given dataset is 20."
      ],
      "metadata": {
        "id": "loNHJVlLeZiP"
      }
    },
    {
      "cell_type": "markdown",
      "source": [
        "# **Q12**\n",
        "\n",
        "**For a normal distribution data what is the relationship between its measure of central tendency?**\n",
        "\n",
        "**Answer:**\n",
        "\n",
        "For a normal distribution, the measures of central tendency (mean, median, and mode) are equal. In a perfectly symmetrical normal distribution, the peak (mode) is at the center, and the mean and median are also at the same point, creating a balanced distribution. This characteristic is a key feature of a normal distribution and reflects its symmetrical bell-shaped curve.\n"
      ],
      "metadata": {
        "id": "GkWwYxgOeaYJ"
      }
    },
    {
      "cell_type": "markdown",
      "source": [
        "# **Q13**\n",
        "\n",
        "**How is covariance different from correlation?**\n",
        "\n",
        "**Answer:**\n",
        "\n",
        "Covariance measures the extent to which two variables vary together, indicating the direction of their relationship (positive or negative). However, correlation is a standardized version of covariance, ranging between -1 and 1, representing both the strength and direction of the linear relationship between variables. While covariance provides a raw measure of the relationship, correlation provides a more interpretable and comparable value, as it is not influenced by the scale of the variables."
      ],
      "metadata": {
        "id": "SNIc22HwebQs"
      }
    },
    {
      "cell_type": "markdown",
      "source": [
        "# **Q14**\n",
        "\n",
        "**How do outliers affect measures of central tendency and dispersion? Provide an example.**\n",
        "\n",
        "**Answer:**\n",
        "\n",
        "\n",
        "Outliers can significantly affect measures of central tendency and dispersion. When outliers are present in the data, the mean can be skewed towards extreme values, making it less representative of the typical values in the dataset. Additionally, outliers can increase the spread of the data, leading to larger values for measures of dispersion like the variance and standard deviation.\n",
        "\n",
        "Example:\n",
        "Consider the following dataset representing exam scores:\n",
        "\n",
        "    [85, 90, 92, 88, 89, 87, 91, 1000].\n",
        "\n",
        "The outlier \"1000\" significantly influences the mean, making it much larger than the other scores. The mean without the outlier would be around 89, but with the outlier, it becomes 213. The outlier also impacts measures of dispersion like the variance and standard deviation, leading to larger values that do not accurately reflect the spread of the majority of the data."
      ],
      "metadata": {
        "id": "NKYDd557eqZR"
      }
    }
  ]
}